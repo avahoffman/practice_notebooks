{
 "cells": [
  {
   "cell_type": "code",
   "execution_count": null,
   "metadata": {},
   "outputs": [],
   "source": [
    "# https://www.youtube.com/watch?v=R-HLU9Fl5ug"
   ]
  },
  {
   "cell_type": "markdown",
   "metadata": {},
   "source": [
    "# General functions\n"
   ]
  },
  {
   "cell_type": "code",
   "execution_count": 57,
   "metadata": {
    "scrolled": false
   },
   "outputs": [
    {
     "name": "stdout",
     "output_type": "stream",
     "text": [
      "r ... pig\n",
      "n ... plane\n",
      "rgjmi ... ['pig', 'boat', 'iguana']\n",
      "18 ... 6\n",
      "a ... boat\n",
      "True ... True\n",
      "True ... True\n",
      "cow pig frog\n",
      "['cow', 'pig', 'frog', 'boat', 'plane', 'iguana', 'cow', 'pig', 'frog', 'boat', 'plane', 'iguana', 'cow', 'pig', 'frog', 'boat', 'plane', 'iguana']\n"
     ]
    }
   ],
   "source": [
    "#indexing a string - letters, or a list\n",
    "x = 'frogsjumpingaround'\n",
    "y = ['cow','pig','frog','boat','plane','iguana']\n",
    "\n",
    "print(x[1],\"...\",y[1])\n",
    "print(x[-2],\"...\",y[-2]) #second to last item\n",
    "print(x[1:10:2],\"...\",y[1:10:2])  #print every second item from 1-10\n",
    "print(len(x),\"...\",len(y))\n",
    "print(min(x),\"...\",min(y))\n",
    "print('a' in x,\"...\",'cow' in y)\n",
    "print('z' not in x,\"...\",'dog' not in y)\n",
    "\n",
    "# unpacking\n",
    "a,b,c,d,e,f = y\n",
    "print(a,b,c)\n",
    "\n",
    "# multiplying\n",
    "print(y * 3)"
   ]
  },
  {
   "cell_type": "code",
   "execution_count": 60,
   "metadata": {},
   "outputs": [
    {
     "name": "stdout",
     "output_type": "stream",
     "text": [
      "14\n",
      "16\n",
      "18\n",
      "0 cow\n",
      "1 pig\n",
      "2 frog\n",
      "3 boat\n",
      "4 plane\n",
      "5 iguana\n"
     ]
    }
   ],
   "source": [
    "#iterating\n",
    "z = [7,8,9]\n",
    "for item in z:\n",
    "    print (item *2)\n",
    "\n",
    "#if you want to see the index explicitly\n",
    "for index,item in enumerate(y):\n",
    "    print(index, item)"
   ]
  },
  {
   "cell_type": "code",
   "execution_count": 62,
   "metadata": {},
   "outputs": [
    {
     "name": "stdout",
     "output_type": "stream",
     "text": [
      "47\n",
      "6\n",
      "[1, 3, 4, 4, 5, 7, 23] ... ['cow', 'cow', 'cow', 'frog', 'pig']\n",
      "2 ... 3\n",
      "2 ... 0\n"
     ]
    }
   ],
   "source": [
    "j = [3,7,4,4,23,5,1]\n",
    "x = ['cow','pig','frog','cow','cow']\n",
    "print(sum(j)) # won't sum strings\n",
    "print(sum(j[-2:])) #just the final two\n",
    "print(sorted(j),'...',sorted(x))\n",
    "print(j.count(4),'...',x.count('cow')) #how many times does 4 or cow occur\n",
    "print(j.index(4),'...',x.index('cow')) #first time 4 or cow occurs"
   ]
  },
  {
   "cell_type": "markdown",
   "metadata": {},
   "source": [
    "# List functions"
   ]
  },
  {
   "cell_type": "code",
   "execution_count": 71,
   "metadata": {},
   "outputs": [
    {
     "name": "stdout",
     "output_type": "stream",
     "text": [
      "[0, 1, 2, 3, 4, 5, 6, 7]\n",
      "[25, 36, 49, 64, 81]\n",
      "[0, 1, 2, 4, 5, 6, 7]\n",
      "[0, 1, 2, 4, 5, 6, 7, 7]\n",
      "[0, 1, 2, 4, 5, 6, 7, 7, 25, 36, 49, 64, 81]\n",
      "[0, 1, 2, 90, 4, 5, 6, 7, 7, 25, 36, 49, 64, 81]\n",
      "[81, 64, 49, 36, 25, 7, 7, 6, 5, 4, 90, 2, 1, 0]\n",
      "[0, 1, 2, 4, 5, 6, 7, 7, 25, 36, 49, 64, 81, 90]\n",
      "[0, 1, 2, 4, 5, 6, 7, 7, 25, 36, 49, 64, 81]\n",
      "[0, 1, 2, 4, 5, 6, 7, 25, 36, 49, 64, 81]\n"
     ]
    }
   ],
   "source": [
    "## specific list functions\n",
    "\n",
    "#List comprehension\n",
    "x = [m for m in range(8)]; print(x)\n",
    "y = [z**2 for z in range(10) if z>4]; print(y)\n",
    "\n",
    "# to delete\n",
    "del(x[3])        ; print(x) #delete third element\n",
    "x.append(7)      ; print(x) #add on something else\n",
    "x.extend(y)      ; print(x) #where y is another list\n",
    "x.insert(3,90)   ; print(x) #insert at a certain index (index, value)\n",
    "x.reverse()      ; print(x) #reverse list\n",
    "x.sort()         ; print(x) # DIFFERS FROM SORTED!!\n",
    "x.pop()          ; print(x) # remove last element\n",
    "x.remove(7)      ; print(x) #remove first instance of an item"
   ]
  },
  {
   "cell_type": "code",
   "execution_count": 8,
   "metadata": {},
   "outputs": [
    {
     "data": {
      "text/plain": [
       "[3, 5]"
      ]
     },
     "execution_count": 8,
     "metadata": {},
     "output_type": "execute_result"
    }
   ],
   "source": [
    "def oddNumbers(l, r):\n",
    "    a = []\n",
    "    window = range(l,r+1)\n",
    "    for i in window:\n",
    "        if i%2 == 1:\n",
    "            a.append(i)\n",
    "    return a\n",
    "oddNumbers(2,5)"
   ]
  },
  {
   "cell_type": "code",
   "execution_count": null,
   "metadata": {},
   "outputs": [],
   "source": [
    "# find unique\n",
    "x = [m for m in range(8)]; print(x)\n",
    "y = [5,3,4,3,5,5,5,7,1,10]\n",
    "x.extend(y) #combine lists\n",
    "print(x)\n",
    "z = []\n",
    "for item in x:\n",
    "    if item not in z:\n",
    "        z.append(item)\n",
    "print(z)"
   ]
  },
  {
   "cell_type": "markdown",
   "metadata": {},
   "source": [
    "# Tuples (can't accidentally delete or add)"
   ]
  },
  {
   "cell_type": "code",
   "execution_count": 78,
   "metadata": {},
   "outputs": [
    {
     "name": "stdout",
     "output_type": "stream",
     "text": [
      "([1], 3)\n",
      "([1, 2, 3, 4], 4)\n"
     ]
    }
   ],
   "source": [
    "# make a tuple\n",
    "# tuple is a special immutable (not changeable) list\n",
    "# tuples can have a list within them, just use brackets to index the list\n",
    "# lists within tuples ARE mutable.\n",
    "x = ()\n",
    "x = (1,2,3,4)\n",
    "x = 1,2,3,4\n",
    "x = 1,\n",
    "tuple(y)\n",
    "\n",
    "# x[1] = 8 #nope!! Immutable!\n",
    "t = ([1,2],3)\n",
    "del(t[0][1])     ;print(t) #[tuple index][list index]\n",
    "t = ([1,2,3],4)\n",
    "t[0].append(4)   ;print(t)"
   ]
  },
  {
   "cell_type": "markdown",
   "metadata": {},
   "source": [
    "# sets"
   ]
  },
  {
   "cell_type": "code",
   "execution_count": 105,
   "metadata": {},
   "outputs": [
    {
     "name": "stdout",
     "output_type": "stream",
     "text": [
      "{3, 5, 7}\n",
      "{'frog', 'pig', 'cow'}\n",
      "[0, 1, 2, 0, 1, 2, 0, 1, 2, 0, 1, 2, 0, 1]\n",
      "{0, 1, 2}\n",
      "{'sheep', 3, 5, 7}\n",
      "{'sheep', 3, 5}\n",
      "3\n",
      "{'unicorn', 'pig'}\n",
      "{'unicorn', 'cat', 'magic', 'frog', 'cow', 'house', 'pig'}\n",
      "{'cat', 'frog', 'magic', 'cow', 'house'}\n",
      "{'frog', 'cow'}\n",
      "False\n",
      "False\n"
     ]
    }
   ],
   "source": [
    "# find unique values!\n",
    "y = {3,5,3,5,7,7,7,7}\n",
    "print(y)\n",
    "x = ['cow','pig','frog','cow','cow']\n",
    "print(set(x))\n",
    "# set comprehension\n",
    "q = [x%3 for x in range(20) if x>5] ; print(q) #list\n",
    "q = {x%3 for x in range(20) if x>5} ; print(q) #curly brakets {} indicate sert\n",
    "\n",
    "y.add('sheep') ; print(y)\n",
    "y.remove(7)    ; print(y)\n",
    "print( len(y) )\n",
    "\n",
    "z = {'cow','pig','frog','unicorn'}\n",
    "w = {'house','cat','unicorn','magic','pig'}\n",
    "#math ops\n",
    "print(z&w)\n",
    "print(z|w)\n",
    "print(z^w) #or but not both\n",
    "print(z-w)\n",
    "print(z<=w) #w contains z?\n",
    "print(z>=w) #z contains w?"
   ]
  },
  {
   "cell_type": "markdown",
   "metadata": {},
   "source": [
    "# Dictionaries"
   ]
  },
  {
   "cell_type": "code",
   "execution_count": 226,
   "metadata": {},
   "outputs": [
    {
     "name": "stdout",
     "output_type": "stream",
     "text": [
      "{'pork': 7.93, 'chicken': 3.31, 'meatballs': 0.54}\n",
      "{'pork': 7.93, 'chicken': 3.31, 'meatballs': 0.54, 'peanuts': 1.99}\n",
      "{'pork': 7.93, 'meatballs': 0.54, 'peanuts': 1.99}\n",
      "3\n",
      "True\n",
      "True\n",
      "dict_keys(['pork', 'meatballs', 'peanuts'])\n",
      "dict_values([7.93, 0.54, 1.99])\n",
      "dict_items([('pork', 7.93), ('meatballs', 0.54), ('peanuts', 1.99)])\n",
      "True\n"
     ]
    }
   ],
   "source": [
    "x = {'pork':7.93,'chicken':3.31,'meatballs':0.54}\n",
    "#x = dict(pork=7.93,chicken=3.31,meatballs=0.54) ; print(x)\n",
    "#lookup - treat the key like an index\n",
    "x['pork']\n",
    "x['peanuts']=1.99   ;print(x) #add/change an item\n",
    "del x['chicken']    ;print(x) #delete item\n",
    "print(len(x))\n",
    "print('pork' in x)  #only checks keys\n",
    "print('canoilis' not in x)\n",
    "\n",
    "print(x.keys())\n",
    "print(x.values())\n",
    "print(x.items())  #turns them into tuples\n",
    "print(1.99 in x.values())"
   ]
  },
  {
   "cell_type": "code",
   "execution_count": 227,
   "metadata": {},
   "outputs": [
    {
     "name": "stdout",
     "output_type": "stream",
     "text": [
      "pork 7.93\n",
      "meatballs 0.54\n",
      "peanuts 1.99\n",
      "pork 7.93\n",
      "meatballs 0.54\n",
      "peanuts 1.99\n"
     ]
    }
   ],
   "source": [
    "#same thing. Note entries in a dic are in random order\n",
    "for key in x:\n",
    "    print(key, x[key])\n",
    "for k,v in x.items():\n",
    "    print(k,v)"
   ]
  },
  {
   "cell_type": "markdown",
   "metadata": {},
   "source": [
    "# Arrays  \n",
    "  \n",
    "Note that a one dimensional array is a vector.  \n",
    "A two dimensional array is a matrix."
   ]
  },
  {
   "cell_type": "code",
   "execution_count": 4,
   "metadata": {},
   "outputs": [
    {
     "data": {
      "text/plain": [
       "20"
      ]
     },
     "execution_count": 4,
     "metadata": {},
     "output_type": "execute_result"
    }
   ],
   "source": [
    "x = [1,2,3.5,10,20]\n"
   ]
  },
  {
   "cell_type": "code",
   "execution_count": null,
   "metadata": {},
   "outputs": [],
   "source": []
  },
  {
   "cell_type": "code",
   "execution_count": 33,
   "metadata": {},
   "outputs": [
    {
     "name": "stdout",
     "output_type": "stream",
     "text": [
      "[1, 3, 2]\n",
      "4\n"
     ]
    }
   ],
   "source": [
    "# find number of pairs of 'socks'\n",
    "n = 9\n",
    "ar = [1, 1, 3 ,1, 2, 1, 3, 3, 3, 3 ]\n",
    "z = []\n",
    "for item in ar:\n",
    "    if item not in z:\n",
    "        z.append(item)\n",
    "print(z)\n",
    "totalcount = 0\n",
    "for item in z:\n",
    "    count = 0\n",
    "    for value in ar:\n",
    "        if item == value:\n",
    "            count += 1\n",
    "        else:\n",
    "            continue\n",
    "    if count%2 == 0:\n",
    "        totalcount = totalcount + (count/2)\n",
    "        \n",
    "    else:\n",
    "        totalcount = totalcount + round(count/2.2,0)\n",
    "print(round(totalcount))\n",
    "\n"
   ]
  },
  {
   "cell_type": "code",
   "execution_count": 108,
   "metadata": {},
   "outputs": [],
   "source": [
    "x = 'insight is lit'\n",
    "z = []\n",
    "for i in x:\n",
    "    if i not in z:\n",
    "        z.append(i)\n",
    "    else:\n",
    "        continue\n",
    "if len(x) == len(z):\n",
    "    print('yep')\n",
    "else:\n",
    "    print('nope')"
   ]
  },
  {
   "cell_type": "code",
   "execution_count": 138,
   "metadata": {},
   "outputs": [
    {
     "data": {
      "text/plain": [
       "True"
      ]
     },
     "execution_count": 138,
     "metadata": {},
     "output_type": "execute_result"
    }
   ],
   "source": [
    "# is one a permutation\n",
    "s1 = \"dog\"\n",
    "s2 = \"god\"\n",
    "\n",
    "def ispermut(s1,s2):\n",
    "    if len(s1) == len(s2):\n",
    "        l1 = list(s1) \n",
    "        l2 = list(s2)\n",
    "        l1.sort()\n",
    "        l2.sort()\n",
    "        return l1 == l2\n",
    "    else:\n",
    "        return 'false'\n",
    "            \n",
    "ispermut('dog','gd')\n",
    "\n",
    "def is_perm(str1, str2):\n",
    "    return sorted(str1) == sorted(str2)\n",
    "is_perm(s1,s2)\n"
   ]
  },
  {
   "cell_type": "code",
   "execution_count": 160,
   "metadata": {},
   "outputs": [
    {
     "name": "stdout",
     "output_type": "stream",
     "text": [
      "insight%20is%20lit\n"
     ]
    }
   ],
   "source": [
    "def fixit(x):\n",
    "    x = list(x)\n",
    "    for index,i in enumerate(x):\n",
    "        if i == ' ':\n",
    "            x[index] = '%20'      \n",
    "    print(''.join(x))\n",
    "fixit('insight is lit')"
   ]
  },
  {
   "cell_type": "code",
   "execution_count": 194,
   "metadata": {},
   "outputs": [
    {
     "name": "stdout",
     "output_type": "stream",
     "text": [
      "True\n"
     ]
    }
   ],
   "source": [
    "x = 'LAAAL'\n",
    "def couldpalindrome(x):\n",
    "    numb = int(len(x) /2)\n",
    "    firsthalf = sorted(x[0:numb])\n",
    "    if len(x)%2 == 0: # if even number of characters\n",
    "        secondhalf = sorted(x[numb:len(x)])\n",
    "        print(firsthalf == secondhalf)\n",
    "    else: #have to add one so it ignores the middle index if odd number of characters\n",
    "        secondhalf = sorted(x[numb+1:len(x)])\n",
    "        print(firsthalf == secondhalf)\n",
    "couldpalindrome(x)"
   ]
  },
  {
   "cell_type": "code",
   "execution_count": 212,
   "metadata": {},
   "outputs": [
    {
     "name": "stdout",
     "output_type": "stream",
     "text": [
      "3\n",
      "3\n",
      "3\n",
      "1\n",
      "1\n",
      "5\n",
      "false\n"
     ]
    }
   ],
   "source": [
    "# can you make it into a palindrome?\n",
    "\n",
    "x = 'xxxzy'\n",
    "odds = 0\n",
    "for letter in x:\n",
    "    counts = x.count(letter)\n",
    "    if counts%2 == 0:\n",
    "         continue\n",
    "    else:\n",
    "        odds += 1\n",
    "print(odds)\n",
    "if odds > 1:\n",
    "    print('false')\n",
    "elif odds <= 1:\n",
    "    print('true')"
   ]
  },
  {
   "cell_type": "code",
   "execution_count": 266,
   "metadata": {},
   "outputs": [
    {
     "name": "stdout",
     "output_type": "stream",
     "text": [
      "{'milk': 330.0, 'eggs': 180.0, 'bread': 520.0, 'chocolate': 970.0, 'juice': 1100.0, 'ramen': 727.3, 'cheese': 111.4, 'fish': 980.82}\n",
      "the cost of cheese is 111.4\n",
      "the cost of eggs is 180.0\n",
      "the cost of milk is 330.0\n",
      "the cost of bread is 520.0\n",
      "the cost of ramen is 727.3\n",
      "the cost of chocolate is 970.0\n",
      "the cost of fish is 980.82\n",
      "the cost of juice is 1100.0\n"
     ]
    }
   ],
   "source": [
    "groceries=['milk','eggs','bread','chocolate','juice','ramen','cheese','fish']\n",
    "prices=['330.','180.','520.','970.','1100','727.3','111.4','980.82']\n",
    "\n",
    "prices=[float(i) for i in prices] #convert to float\n",
    "\n",
    "# minprice = prices[1]\n",
    "# for i in prices:\n",
    "#     if i < minprice:\n",
    "#         minprice = i\n",
    "#     else:\n",
    "#         continue\n",
    "# print(minprice)\n",
    "        \n",
    "d = {}\n",
    "for index,i in enumerate(groceries):\n",
    "    item = groceries[index]\n",
    "    pri = prices[index]\n",
    "    d[item] = pri\n",
    "print(d)\n",
    "sr = []\n",
    "for key,value in d.items():\n",
    "    sr.append([value,key])\n",
    "sr = sorted(sr)\n",
    "# [(key,value) for (value,key) in d.items()]\n",
    "for j in sr:\n",
    "    print(\"the cost of\",j[1],\"is\",j[0])"
   ]
  },
  {
   "cell_type": "code",
   "execution_count": 161,
   "metadata": {},
   "outputs": [
    {
     "name": "stdout",
     "output_type": "stream",
     "text": [
      "1\n",
      "2\n",
      "50\n",
      "40\n"
     ]
    }
   ],
   "source": [
    "# linked list\n",
    "# Node has a value\n",
    "# a Node has a pointer, initially pointing to nothing, to the next Node\n",
    "class chain:\n",
    "    def __init__(self, value):\n",
    "        self.value = value\n",
    "        self.next = None\n",
    "    def traverse(self):\n",
    "        node = self\n",
    "        while node != None:\n",
    "            print(node.value)\n",
    "            node = node.next\n",
    "    def deletenode(self,value): #deleting the node\n",
    "        node = self\n",
    "    #might be hard to delete head with a singly-linked list\n",
    "        if node.value == value:\n",
    "            pass #ignore head..\n",
    "        else:\n",
    "            while node.next != None: # if it's not the last node\n",
    "                if node.next.value == value: #if the next one is equal to said value\n",
    "                    node.next = node.next.next #skip ahead two!\n",
    "                else:\n",
    "                    node = node.next\n",
    "            if node.next == None:\n",
    "                if node.value == value:\n",
    "                    node = None\n",
    "            \n",
    "node1 = chain(1)\n",
    "node1.next = chain(2)\n",
    "node1.next.next = chain(50)\n",
    "node1.next.next.next = chain(40)\n",
    "node1.traverse()\n",
    "# next stores a loction in memory\n",
    "# value is something stored in that location\n",
    "# node1 = chain(1)  \n",
    "# node1.next = chain(2)\n",
    "#    Less compact equivalent\n",
    "#node2 = chain(2)\n",
    "#node1.next = node2\n",
    "#node3 = chain(50)\n",
    "#node2.next = node3\n",
    "\n",
    "node1.deletenode(40) ## delete the node with this item!\n",
    "node1.traverse() ##run through the list"
   ]
  },
  {
   "cell_type": "code",
   "execution_count": 31,
   "metadata": {},
   "outputs": [
    {
     "data": {
      "text/plain": [
       "12"
      ]
     },
     "execution_count": 31,
     "metadata": {},
     "output_type": "execute_result"
    }
   ],
   "source": [
    "s = '(()(()))'\n",
    "#defining a function that works for this class\n",
    "# append is a method of class list\n",
    "# so then scoreOfParentheses is a method of class Solution\n",
    "\n",
    "class Solution(object):\n",
    "    def scoreOfParentheses(self, S):\n",
    "        def F(i, j):\n",
    "            #Score of balanced string S[i:j]\n",
    "            ans = bal = 0\n",
    "\n",
    "            #Split string into primitives\n",
    "            for k in range(i, j):\n",
    "                bal += 1 if S[k] == '(' else -1\n",
    "                if bal == 0:\n",
    "                    if k - i == 1:\n",
    "                        ans += 1\n",
    "                    else:\n",
    "                        ans += 2 * F(i+1, k)\n",
    "                    i = k+1\n",
    "\n",
    "            return ans\n",
    "\n",
    "        return F(0, len(S))\n",
    "    \n",
    "Solution().scoreOfParentheses(s)"
   ]
  },
  {
   "cell_type": "code",
   "execution_count": 34,
   "metadata": {},
   "outputs": [
    {
     "name": "stdout",
     "output_type": "stream",
     "text": [
      "0\n",
      "0\n",
      "1\n",
      "3\n",
      "6\n",
      "12\n"
     ]
    }
   ],
   "source": [
    "S = '((()(())))'\n",
    "stack = [0] #The score of the current frame\n",
    "for x in S:\n",
    "    if x == '(':\n",
    "        stack.append(0)\n",
    "    else:\n",
    "        v = stack.pop()\n",
    "        stack[-1] += max(2 * v, 1)\n",
    "        print(v)\n",
    "print(stack.pop())"
   ]
  },
  {
   "cell_type": "code",
   "execution_count": null,
   "metadata": {},
   "outputs": [],
   "source": []
  }
 ],
 "metadata": {
  "kernelspec": {
   "display_name": "Python 3",
   "language": "python",
   "name": "python3"
  },
  "language_info": {
   "codemirror_mode": {
    "name": "ipython",
    "version": 3
   },
   "file_extension": ".py",
   "mimetype": "text/x-python",
   "name": "python",
   "nbconvert_exporter": "python",
   "pygments_lexer": "ipython3",
   "version": "3.6.6"
  }
 },
 "nbformat": 4,
 "nbformat_minor": 2
}
