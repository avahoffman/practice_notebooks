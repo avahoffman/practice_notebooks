{
 "cells": [
  {
   "cell_type": "markdown",
   "metadata": {},
   "source": [
    "# An Exquisitely Commented SVM Toolkit\n",
    "\n",
    "* Original notebook by Natalia Zhang <wenshuo.zhang@gmail.com>\n",
    "* Module documentation http://scikit-learn.org/stable/modules/svm.html\n",
    "* Move things around and/or modify as needed\n",
    "* Copiously annotated so that you can control-F to any keyword that you need\n",
    "\n",
    "## Contents\n",
    "* Classification\n",
    "* 1-Class Outlier Detection\n",
    "* Hyperparameters & Metrics\n",
    "* Example: Boston Housing Data\n",
    "* Appendix\n",
    "    - Additional SVM Methods\n",
    "    - Additional Kernels\n",
    "    - Support Vector Regression"
   ]
  },
  {
   "cell_type": "markdown",
   "metadata": {},
   "source": [
    "## Classification\n",
    "\n",
    "SVM is more immune to issues of (multi)collinearity because it models the separation _between_ classes instead of modeling the classes themselves. It also can handle data that has a lot of features (e.g. text data). The downside is that the initial model can be computationally expensive to run, but predictions should be pretty fast once you've hurried up and waited. \n",
    "\n",
    "**When selecting a kernel:**\n",
    "* What's a good separator/classification rule of thumb?\n",
    "* Kernel should reflect a family of transformations that do not change your problem fundamentally (but which ones do you care about?)\n",
    "\n",
    "Think of the kernel as a similarity measure. Choose one according to expert knowledge if you can. RBF (Gaussian) kernel is the **default** in SVM and is a good one to start with, especially since linear kernel is a special case of the RBF and would be covered by it.\n",
    "\n",
    "One last caveat: unless you're using a linear kernel, it's usually not possible to directly analyze feature importance. The alternative is to go in the other direction (remember, SVM increases dimensionality to make it easier to draw hyperplanes) and perform dimensionality reduction *or* by doing feature extraction."
   ]
  },
  {
   "cell_type": "markdown",
   "metadata": {},
   "source": [
    "### Data Splitting"
   ]
  },
  {
   "cell_type": "code",
   "execution_count": null,
   "metadata": {},
   "outputs": [],
   "source": [
    "from sklearn.model_selection import train_test_split\n",
    "\n",
    "X_train, X_test, Y_train, Y_test = train_test_split(FILL_IN_FEATURES, FILL_IN_LABELS, random_state=ENTER_INT)"
   ]
  },
  {
   "cell_type": "markdown",
   "metadata": {},
   "source": [
    "### Actual Code for Actual Classification"
   ]
  },
  {
   "cell_type": "code",
   "execution_count": null,
   "metadata": {},
   "outputs": [],
   "source": [
    "#Linear classification\n",
    "#If you have millions of samples and/or features, use LinearSVC instead of SVC\n",
    "\n",
    "from sklearn import svm\n",
    "\n",
    "svmmodel = svm.SVC(kernel = 'linear') #linear mode\n",
    "svmmodel = svmmodel.fit(X_train, Y_train) #Line 1 and Line 2 can be combined\n",
    "predictions = svmmodel.predict(X_test) #predict with test data, returns class labels\n",
    "\n",
    "#Often used options\n",
    "svmmodel = svmmodel.SVC(kernel = 'linear', class_weights='balanced') #auto-weights for imbalanced data, can provide dict of custom weights\n",
    "svmmodel = svmmodel.SVC(kernel = 'linear', probability = True) #add probabilities, but they can be inaccurate\n",
    "svmmodel = svmmodel.SVC(kernel = 'linear', C = 1) #Change C to allow for overlapping datasets. Default is 1, C can range from 0 to 1+ \n",
    "\n",
    "#need probabilities? Run with probability = True\n",
    "svmmodel.predict_proba(X_test) #uses CV to generate, so results will be slightly different\n",
    "svmmodel.score(X_train, Y_train) #returns mean accuracy of data & labels"
   ]
  },
  {
   "cell_type": "code",
   "execution_count": null,
   "metadata": {},
   "outputs": [],
   "source": [
    "#Use Stochastic Gradient Descent module on sparse data for NLP.\n",
    "#Data should have been previously tokenized/cleaned/converted to count vectors\n",
    "#You can't generate probability estimates with the SGD method!\n",
    "\n",
    "from sklearn import linear_model\n",
    "\n",
    "svmmodel = linear_model.SGDClassifier()\n",
    "svmmodel = svmmodel.fit(X_train, Y_train)\n",
    "predictions = svmmodel.predict(X_test) #predict with test data\n",
    "\n",
    "#Customizable version\n",
    "svmmodel = linear_model.SGDClassifier(loss = \"hinge\", penalty = \"l2\", class_weights=\"balanced\")\n",
    "\n",
    "#Loss: Hinge is default. Anything else is not an SVM!\n",
    "#Penalty: L2 default, L1 or ElasticNet does better feature selection\n",
    "#class weights: see above\n",
    "#You may care about random_state, specify int for reproducible data shuffling"
   ]
  },
  {
   "cell_type": "code",
   "execution_count": null,
   "metadata": {},
   "outputs": [],
   "source": [
    "#RBF/Gaussian, DEFAULT OPTION, draws normal curves around data points \n",
    "\n",
    "from sklearn import svm\n",
    "\n",
    "svmmodel = svm.SVC(kernel = 'rbf')\n",
    "svmmodel = svmmodel.fit(X_train, Y_train) #Actually train your model on training data\n",
    "predictions = svmmodel.predict(X_test) #predict with test data\n",
    "\n",
    "#Often used options\n",
    "\n",
    "svmmodel = svm.SVC(kernel = 'rbf', class_weights='balanced') #auto-weights for imbalanced data, can provide dict of custom weights\n",
    "svmmodel = svm.SVC(kernel = 'rbf', probability = True) #add probabilities, but they can be inaccurate\n",
    "svmmodel = svm.SVC(kernel = 'rbf', C = 1) #Change C to allow for overlapping datasets. Default is 1, C can range from 0 to 1+ \n",
    "svmmodel = svm.SVC(kernel = 'rbf', gamma = 'auto') #specifies kernel coef, auto is default, but can give float"
   ]
  },
  {
   "cell_type": "markdown",
   "metadata": {},
   "source": [
    "Usually you'll only need the linear or the Gaussian kernel. Polynomial and sigmoid kernel code is in the Appendix, as are the additional SVM methods."
   ]
  },
  {
   "cell_type": "markdown",
   "metadata": {},
   "source": [
    "### Feature Importance\n",
    "\n",
    "As mentioned earlier, sometimes you do care about feature importance. This is not a good algorithm to use if you want an easy explanation out of anything except the linear kernel."
   ]
  },
  {
   "cell_type": "code",
   "execution_count": null,
   "metadata": {},
   "outputs": [],
   "source": [
    "#SVM can access weights through a built-in function.\n",
    "#Coefficients may differ based on the kernel that you're using, because linearSVC uses one-against-multi \n",
    "#as compared to the regular linear kernel (in libsvm) using one-against-one.\n",
    "#Note, however, that this is *only* for the multiclass case\n",
    "\n",
    "svmcoef = svmmodel.coef_ #you may want to ravel it (flatten into easy numpy array)\n",
    "\n",
    "\n",
    "#potential way to ID most important features for SVC, but I haven't tested this\n",
    "\n",
    "from sklearn import svm\n",
    "from sklearn.feature_selection import RFE\n",
    "\n",
    "svmmodel = SVC()\n",
    "rfe = RFE(svmmodel, \"# features to be selected without quotes\")\n",
    "rfe.fit(X, Y)\n",
    "print(rfe.support_)"
   ]
  },
  {
   "cell_type": "markdown",
   "metadata": {},
   "source": [
    "## One-Class Outlier Detection\n",
    "\n",
    "This is just an SVM and offers the same flexibility as the multiclass cases above. We do need to care about **nu**, which is an upper bound on the fraction of margin errors and a lower bound on the fraction of support vectors relative to the total number of training examples\n",
    "\n",
    "If nu = 0.05, at most 5% of training examples will be found to be misclassified\n",
    "& at least 5% of training examples are support vectors"
   ]
  },
  {
   "cell_type": "code",
   "execution_count": 13,
   "metadata": {},
   "outputs": [],
   "source": [
    "from sklearn import svm\n",
    "\n",
    "svmmodel = svm.OneClassSVM(kernel = \"FILL_ME_IN\", nu=\"FILL ME IN WITHOUT QUOTES\")\n",
    "svmmodel = svmmodel.fit(X_train)\n",
    "outliers = svmmodel.fit_predict(X_train) #-1 for outlier, 1 for inliers\n",
    "predictions = svmmodel.predict(X_test) #returns class labels. This may not be necessary\n",
    "\n",
    "#nu is between 0 and 1. Default is 0.5"
   ]
  },
  {
   "cell_type": "markdown",
   "metadata": {},
   "source": [
    "## Validation & Metrics"
   ]
  },
  {
   "cell_type": "markdown",
   "metadata": {},
   "source": [
    "### Optimizing Hyperparameters\n",
    "\n",
    "Common ones:\n",
    "\n",
    "* kernel\n",
    "* gamma\n",
    "* class weights\n",
    "* C"
   ]
  },
  {
   "cell_type": "code",
   "execution_count": null,
   "metadata": {},
   "outputs": [],
   "source": [
    "from sklearn.svm import SVC\n",
    "from sklearn.grid_search import GridSearchCV\n",
    "from sklearn.model_selection import Parameter Grid\n",
    "\n",
    "#specify either a list of parameters or a ParamGrid\n",
    "parameters = {'hyperparam1': [value1, value2,value3], 'hyperparam2':[value1, value2]}\n",
    "#a ParamGrid is a cross product of whatever is in a dict together/,\n",
    "#so the list below generates 9 combinations for grid search,\n",
    "parameters = ParameterGrid({'hyperparam1': [value1,value2,value3], 'hyperparam2': [value1,value2,value3]})\n",
    "\n",
    "svmmodel = svm.SVC()\n",
    "gridsearch = GridSearchCV(svmmodel, parameters, cv=5)\n",
    "\n",
    "#use best set of parameters\n",
    "print(gridsearch.best_params_)\n",
    "model = gridsearch.best_estimator_\n",
    "Y_test_predicted = model.predict(X_test)\n",
    "\n",
    "#You may want to specify a pipeline if you're applying transforms to your features\n",
    "#e.g. CountVectorizer or Tfidfvectorizer. Otherwise this is optional\n",
    "from sklearn.pipeline import make_pipeline\n",
    "pipe = make_pipeline(NAME_OF_TRANSFORM, svmmodel)"
   ]
  },
  {
   "cell_type": "markdown",
   "metadata": {},
   "source": [
    "### Metrics"
   ]
  },
  {
   "cell_type": "markdown",
   "metadata": {},
   "source": [
    "### Simple CV\n",
    "\n",
    "* Scoring: accuracy, f1, prevision, recall, roc_auc\n",
    "* stick to 'f1' unless you know what you're doing with f1_micro and f1_macro\n",
    "* Full list: http://scikit-learn.org/stable/modules/model_evaluation.html#scoring-parameter"
   ]
  },
  {
   "cell_type": "code",
   "execution_count": null,
   "metadata": {},
   "outputs": [],
   "source": [
    "from sklearn.model_selection import cross_val_score, KFold\n",
    "\n",
    "scores = cross_val_score(svm, X, Y, cv=5, scoring='f1')\n",
    "\n",
    "#X should be features of ALL data\n",
    "#Y should be labels of ALL data\n",
    "#CV = number of slices. I like 5, 3 is default."
   ]
  },
  {
   "cell_type": "code",
   "execution_count": null,
   "metadata": {},
   "outputs": [],
   "source": [
    "from sklearn.metrics import classification_report\n",
    "print(classification_report(Y_test,Y_test_predicted, target_names=['LABEL_NAME_1','LABEL_NAME_2']))\n",
    "\n",
    "#you may want to just generate a list of target_names to pass into different things"
   ]
  },
  {
   "cell_type": "markdown",
   "metadata": {},
   "source": [
    "The problem I see with classification_report is that the report is not as intuitive as a confusion matrix because it reports a separate metric for each _class_ and includes a bunch of metrics that we may not necessarily need."
   ]
  },
  {
   "cell_type": "code",
   "execution_count": null,
   "metadata": {},
   "outputs": [],
   "source": [
    "from sklearn.metrics import confusion_matrix\n",
    "\n",
    "matrix = confusion_matrix(Y_test, Y_test_predicted)\n",
    "sns.heatmap(matrix.T, square = True, annot=True, fmt='d',cbar=False, \n",
    "            xticklabels=TARGET_NAMES_LIST, yticklabels=TARGET_NAMES_LIST)\n",
    "plt.xlabel(\"Actual Label\")\n",
    "plt.ylabel(\"Predicted Label\")"
   ]
  },
  {
   "cell_type": "markdown",
   "metadata": {},
   "source": [
    "### Example: Boston Housing Data\n",
    "\n",
    "We might as well aim for a real example and examine some statistics. Borrowed this strategy from Michelle. Thanks!"
   ]
  },
  {
   "cell_type": "code",
   "execution_count": 35,
   "metadata": {},
   "outputs": [],
   "source": [
    "from sklearn import datasets\n",
    "import pandas as pd\n",
    "import seaborn as sns\n",
    "import matplotlib.pyplot as plt\n",
    "\n",
    "#Oh hey it's the Boston Housing Data\n",
    "iris = datasets.load_iris()\n",
    "\n",
    "#Now let's split\n",
    "from sklearn.model_selection import train_test_split\n",
    "\n",
    "X_train, X_test, Y_train, Y_test = train_test_split(iris.data, iris.target, random_state=2047)\n"
   ]
  },
  {
   "cell_type": "code",
   "execution_count": 32,
   "metadata": {},
   "outputs": [],
   "source": [
    "#now let's do a linear kernel and see what happens\n",
    "\n",
    "from sklearn import svm\n",
    "\n",
    "svmmodel = svm.SVC(kernel = 'linear') #linear mode\n",
    "svmmodel = svmmodel.fit(X_train, Y_train) #Line 1 and Line 2 can be combined\n",
    "Y_train_predictions = svmmodel.predict(X_train)\n",
    "Y_test_predictions = svmmodel.predict(X_test) #predict with test data, returns class labels"
   ]
  },
  {
   "cell_type": "code",
   "execution_count": 43,
   "metadata": {},
   "outputs": [
    {
     "name": "stdout",
     "output_type": "stream",
     "text": [
      "[[-0.04619348  0.52133922 -1.00307924 -0.4641441 ]\n",
      " [-0.00708258  0.17885072 -0.53832399 -0.29218158]\n",
      " [ 0.59243325  0.96037137 -2.0072457  -1.97539481]]\n"
     ]
    }
   ],
   "source": [
    "print(svmmodel.coef_)"
   ]
  },
  {
   "cell_type": "markdown",
   "metadata": {},
   "source": [
    "I used a linear model here specifically so that we can look at coefficient values. Because libsvm uses a one-against-one scenario, we have three combinations of coefficients for generating support vectors: 0 against 1, 1 against 2, and 0 against 2.\n",
    "\n",
    "What are they, though? Scikit-learn is obtuse and won't return the feature names outright, so we'd have to dig around shallowly. The Iris data does not have labels on the feature array, so you'd have to go dig inside that dataset to find the description. A common strategy is to 1. harvest the feature names from the column labels 2. get the SVM linear kernel coefficients, 3. then loop and print."
   ]
  },
  {
   "cell_type": "code",
   "execution_count": 36,
   "metadata": {},
   "outputs": [
    {
     "data": {
      "text/plain": [
       "Text(91.68,0.5,'Predicted Label')"
      ]
     },
     "execution_count": 36,
     "metadata": {},
     "output_type": "execute_result"
    },
    {
     "data": {
      "image/png": "[encoded data removed]",
      "text/plain": [
       "<Figure size 432x288 with 1 Axes>"
      ]
     },
     "metadata": {
      "needs_background": "light"
     },
     "output_type": "display_data"
    }
   ],
   "source": [
    "from sklearn.metrics import confusion_matrix\n",
    "\n",
    "target_names = [\"Class 0\", \"Class 1\",\"Class 2\"]\n",
    "#training error\n",
    "\n",
    "matrix = confusion_matrix(Y_train, Y_train_predictions)\n",
    "sns.heatmap(matrix.T, square = True, annot=True, fmt='d',cbar=False, \n",
    "            xticklabels=target_names, yticklabels=target_names)\n",
    "plt.xlabel(\"Actual Label\")\n",
    "plt.ylabel(\"Predicted Label\")"
   ]
  },
  {
   "cell_type": "code",
   "execution_count": 37,
   "metadata": {},
   "outputs": [
    {
     "data": {
      "text/plain": [
       "Text(91.68,0.5,'Predicted Label')"
      ]
     },
     "execution_count": 37,
     "metadata": {},
     "output_type": "execute_result"
    },
    {
     "data": {
      "image/png": "[encoded data removed]",
      "text/plain": [
       "<Figure size 432x288 with 1 Axes>"
      ]
     },
     "metadata": {
      "needs_background": "light"
     },
     "output_type": "display_data"
    }
   ],
   "source": [
    "#test error\n",
    "\n",
    "matrix = confusion_matrix(Y_test, Y_test_predictions)\n",
    "sns.heatmap(matrix.T, square = True, annot=True, fmt='d',cbar=False, \n",
    "            xticklabels=target_names, yticklabels=target_names)\n",
    "plt.xlabel(\"Actual Label\")\n",
    "plt.ylabel(\"Predicted Label\")"
   ]
  },
  {
   "cell_type": "markdown",
   "metadata": {},
   "source": [
    "To demonstrate what I mean by the classification report being hard to interpret, here's an example"
   ]
  },
  {
   "cell_type": "code",
   "execution_count": 41,
   "metadata": {},
   "outputs": [
    {
     "name": "stdout",
     "output_type": "stream",
     "text": [
      "              precision    recall  f1-score   support\n",
      "\n",
      "     Class 0       1.00      1.00      1.00        44\n",
      "     Class 1       1.00      0.97      0.99        37\n",
      "     Class 2       0.97      1.00      0.98        31\n",
      "\n",
      "   micro avg       0.99      0.99      0.99       112\n",
      "   macro avg       0.99      0.99      0.99       112\n",
      "weighted avg       0.99      0.99      0.99       112\n",
      "\n"
     ]
    }
   ],
   "source": [
    "from sklearn.metrics import classification_report\n",
    "print(classification_report(Y_train,Y_train_predictions, target_names=target_names))"
   ]
  },
  {
   "cell_type": "code",
   "execution_count": 42,
   "metadata": {},
   "outputs": [
    {
     "name": "stdout",
     "output_type": "stream",
     "text": [
      "              precision    recall  f1-score   support\n",
      "\n",
      "     Class 0       1.00      1.00      1.00         6\n",
      "     Class 1       1.00      0.92      0.96        13\n",
      "     Class 2       0.95      1.00      0.97        19\n",
      "\n",
      "   micro avg       0.97      0.97      0.97        38\n",
      "   macro avg       0.98      0.97      0.98        38\n",
      "weighted avg       0.97      0.97      0.97        38\n",
      "\n"
     ]
    }
   ],
   "source": [
    "print(classification_report(Y_test,Y_test_predictions, target_names=target_names))"
   ]
  },
  {
   "cell_type": "markdown",
   "metadata": {},
   "source": [
    "## Appendix"
   ]
  },
  {
   "cell_type": "markdown",
   "metadata": {},
   "source": [
    "### Additional SVM Methods\n",
    "\n",
    "Different SVM methods use different classification strategies."
   ]
  },
  {
   "cell_type": "code",
   "execution_count": null,
   "metadata": {},
   "outputs": [],
   "source": [
    "from sklearn import svm\n",
    "\n",
    "svm = LinearSVC() \n",
    "\n",
    "#options similar to SVC() with a linear kernel, no other kernerl!\n",
    "#liblinear instead of libsvm\n",
    "#multiclass implementation is one-vs-the-rest, not one-against-one\n",
    "#scales better with large numbers of features and samples, also more options\n",
    "#may work better with NLP if you don't use SGDClassifier\n"
   ]
  },
  {
   "cell_type": "code",
   "execution_count": null,
   "metadata": {},
   "outputs": [],
   "source": [
    "from sklearn import svm\n",
    "\n",
    "svm = NuSVC(nu = 0.5) #0.5 is default!\n",
    "\n",
    "#only differenc is that it uses a parameter to control # support vectors\n",
    "#everything else similar!"
   ]
  },
  {
   "cell_type": "markdown",
   "metadata": {},
   "source": [
    "### Additional Kernels"
   ]
  },
  {
   "cell_type": "code",
   "execution_count": null,
   "metadata": {},
   "outputs": [],
   "source": [
    "#polynomial model, so presumably can draw complicated curves\n",
    "\n",
    "from sklearn import svm\n",
    "\n",
    "svm = svm.SVC(kernel = 'poly')\n",
    "svm.fit(X_train, Y_train) #Actually train your model on training data\n",
    "svm.predict(X_test) #predict with test data\n",
    "\n",
    "#Often used options\n",
    "svm = svm.SVC(kernel = 'poly', class_weights='balanced') #auto-weights for imbalanced data, can provide dict of custom weights\n",
    "svm = svm.SVC(kernel = 'poly', probability = True) #add probabilities, but they can be inaccurate\n",
    "svm = svm.SVC(kernel = 'poly', C = 1) #Change C to allow for overlapping datasets. Default is 1, C can range from 0 to 1+ \n",
    "svm = svm.SVC(kernel = 'poly', gamma = 'auto') #specifies kernel coef, auto is default, but can give float"
   ]
  },
  {
   "cell_type": "code",
   "execution_count": null,
   "metadata": {},
   "outputs": [],
   "source": [
    "#Sigmoid kernel, similar to sigmoid function in logistic regression\n",
    "from sklearn import svm\n",
    "\n",
    "svm = svm.SVC(kernel = 'sigmoid')\n",
    "svm.fit(X_train, Y_train) #Actually train your model on training data\n",
    "svm.predict(X_test) #predict with test data\n",
    "\n",
    "#Often used options\n",
    "svm = svm.SVC(kernel = 'sigmoid', class_weights='balanced') #auto-weights for imbalanced data, can provide dict of custom weights\n",
    "svm = svm.SVC(kernel = 'sigmoid', probability = True) #add probabilities, but they can be inaccurate\n",
    "svm = svm.SVC(kernel = 'sigmoid', C = 1) #Change C to allow for overlapping datasets. Default is 1, C can range from 0 to 1+ \n",
    "svm = svm.SVC(kernel = 'sigmoid', gamma = 'auto') #specifies kernel coef, auto is default, but can give float"
   ]
  },
  {
   "cell_type": "markdown",
   "metadata": {},
   "source": [
    "### Support Vector Regression\n",
    "\n",
    "I'm not sure why you'd ever want to do SVR, but here's some skeleton code"
   ]
  },
  {
   "cell_type": "code",
   "execution_count": null,
   "metadata": {},
   "outputs": [],
   "source": [
    "from sklearn import svm\n",
    "\n",
    "svrmodel = svm.SVR()\n",
    "svrmodel = svrmodel.fit(X_train, Y_train)\n",
    "predictions = svrmodel.predict(X_test)\n",
    "svrmodel.score(X_train, Y_train) #gets R^2 of the prediction\n",
    "\n",
    "# kernels: linear, rbf (DEFAULT), poly, sigmoid\n",
    "# No class weight options!"
   ]
  }
 ],
 "metadata": {
  "kernelspec": {
   "display_name": "Python 3",
   "language": "python",
   "name": "python3"
  },
  "language_info": {
   "codemirror_mode": {
    "name": "ipython",
    "version": 3
   },
   "file_extension": ".py",
   "mimetype": "text/x-python",
   "name": "python",
   "nbconvert_exporter": "python",
   "pygments_lexer": "ipython3",
   "version": "3.6.6"
  }
 },
 "nbformat": 4,
 "nbformat_minor": 2
}
