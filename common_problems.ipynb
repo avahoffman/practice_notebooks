{
 "cells": [
  {
   "cell_type": "markdown",
   "metadata": {},
   "source": [
    "# Python puzzles"
   ]
  },
  {
   "cell_type": "markdown",
   "metadata": {},
   "source": [
    "- How would we merge two lists in order without repeats? "
   ]
  },
  {
   "cell_type": "code",
   "execution_count": 32,
   "metadata": {},
   "outputs": [
    {
     "data": {
      "text/plain": [
       "{1, 2, 3, 4, 5, 7, 8, 10, 11}"
      ]
     },
     "execution_count": 32,
     "metadata": {},
     "output_type": "execute_result"
    }
   ],
   "source": [
    "# sorted of two lists without repeating\n",
    "# In R we might do\n",
    "# sort(unique(c(a,b)))\n",
    "\n",
    "a=[1,2,4,7,8]\n",
    "b=[11,3,5,8,10]\n",
    "\n",
    "def listmerge(a,b):\n",
    "    #a.sort()\n",
    "    #b.sort() ## set sorts for you!\n",
    "    return set(a+b)\n",
    "listmerge(a,b)"
   ]
  },
  {
   "cell_type": "markdown",
   "metadata": {},
   "source": [
    "- How would we determine if all letters/characters in a string are unique?"
   ]
  },
  {
   "cell_type": "code",
   "execution_count": 2,
   "metadata": {},
   "outputs": [
    {
     "name": "stdout",
     "output_type": "stream",
     "text": [
      "not all unqiue\n"
     ]
    }
   ],
   "source": [
    "x = 'are all characters unique'\n",
    "def unique_char(x):\n",
    "    z = []\n",
    "    for i in x:\n",
    "        if i not in z:\n",
    "            z.append(i)\n",
    "        else:\n",
    "            continue\n",
    "    if len(x) == len(z):\n",
    "        print('all unique')\n",
    "    else:\n",
    "        print('not all unqiue')\n",
    "unique_char(x)"
   ]
  },
  {
   "cell_type": "markdown",
   "metadata": {},
   "source": [
    "- Find the number of possible pairs ('sock' problem)"
   ]
  },
  {
   "cell_type": "code",
   "execution_count": 5,
   "metadata": {},
   "outputs": [
    {
     "name": "stdout",
     "output_type": "stream",
     "text": [
      "[1, 3, 2]\n",
      "{1, 2, 3}\n",
      "4\n"
     ]
    }
   ],
   "source": [
    "# find number of pairs of 'socks'\n",
    "n = 9\n",
    "ar = [1, 1, 3 ,1, 2, 1, 3, 3, 3, 3 ]\n",
    "z = []\n",
    "for item in ar:\n",
    "    if item not in z:\n",
    "        z.append(item)\n",
    "print(z) # unique kinds\n",
    "print(set(ar)) # also unique kinds\n",
    "totalcount = 0\n",
    "for item in z:\n",
    "    count = 0\n",
    "    for value in ar:\n",
    "        if item == value:\n",
    "            count += 1\n",
    "        else:\n",
    "            continue\n",
    "    if count%2 == 0:\n",
    "        totalcount = totalcount + (count/2)\n",
    "        \n",
    "    else:\n",
    "        totalcount = totalcount + round(count/2.2,0)\n",
    "print(round(totalcount))"
   ]
  },
  {
   "cell_type": "markdown",
   "metadata": {},
   "source": [
    "- Is one string a permutation of another?"
   ]
  },
  {
   "cell_type": "code",
   "execution_count": 3,
   "metadata": {},
   "outputs": [
    {
     "name": "stdout",
     "output_type": "stream",
     "text": [
      "false\n",
      "False\n"
     ]
    }
   ],
   "source": [
    "# option one\n",
    "def ispermut(s1,s2):\n",
    "    if len(s1) == len(s2):\n",
    "        l1 = list(s1) \n",
    "        l2 = list(s2)\n",
    "        l1.sort()\n",
    "        l2.sort()\n",
    "        return l1 == l2\n",
    "    else:\n",
    "        return 'False'\n",
    "            \n",
    "print(ispermut('dog','gd'))\n",
    "\n",
    "# better\n",
    "def is_perm(str1, str2):\n",
    "    return sorted(str1) == sorted(str2)\n",
    "\n",
    "print(is_perm('dog','gd'))"
   ]
  },
  {
   "cell_type": "markdown",
   "metadata": {},
   "source": [
    "- Given two strings, return True if either of the strings appears at the very end of the other string, ignoring upper/lower case differences (in other words, the computation should not be \"case sensitive\"). Note: s.lower() returns the lowercase version of a string. https://codingbat.com/prob/p174314"
   ]
  },
  {
   "cell_type": "code",
   "execution_count": 25,
   "metadata": {},
   "outputs": [
    {
     "data": {
      "text/plain": [
       "True"
      ]
     },
     "execution_count": 25,
     "metadata": {},
     "output_type": "execute_result"
    }
   ],
   "source": [
    "# cant use endswith\n",
    "def end_other(a, b):\n",
    "    a = a.lower()\n",
    "    b = b.lower()\n",
    "    a = list(a)\n",
    "    b = list(b)\n",
    "    a.reverse()\n",
    "    b.reverse()\n",
    "    if len(a) > len(b):\n",
    "        num_key = len(b)\n",
    "        return a[0:num_key] == b\n",
    "    else:\n",
    "        num_key = len(a)\n",
    "        return b[0:num_key] == a\n",
    "\n",
    "# other solution\n",
    "def end_other(a, b):\n",
    "    a = a.lower()\n",
    "    b = b.lower()\n",
    "    return (b.endswith(a) or a.endswith(b))\n",
    "\n",
    "print(end_other('AbC', 'HiaBc'))\n",
    "print(end_other('abc', 'abXabc'))"
   ]
  },
  {
   "cell_type": "markdown",
   "metadata": {},
   "source": [
    "- Given 3 int values, a b c, return their sum. However, if one of the values is 13 then it does not count towards the sum and values to its right do not count. So for example, if b is 13, then both b and c do not count. https://codingbat.com/prob/p107863\n",
    "\n",
    "lucky_sum(1, 2, 3) → 6  \n",
    "lucky_sum(1, 2, 13) → 3  \n",
    "lucky_sum(1, 13, 3) → 1"
   ]
  },
  {
   "cell_type": "code",
   "execution_count": 30,
   "metadata": {},
   "outputs": [
    {
     "name": "stdout",
     "output_type": "stream",
     "text": [
      "6\n",
      "3\n",
      "1\n"
     ]
    }
   ],
   "source": [
    "def lucky_sum(a, b, c):\n",
    "    if 13 not in (a,b,c):\n",
    "        return a+b+c\n",
    "    elif a == 13:\n",
    "        return 0\n",
    "    elif b == 13:\n",
    "        return a\n",
    "    elif c == 13:\n",
    "        return a+b"
   ]
  },
  {
   "cell_type": "code",
   "execution_count": null,
   "metadata": {},
   "outputs": [],
   "source": []
  }
 ],
 "metadata": {
  "kernelspec": {
   "display_name": "Python 3",
   "language": "python",
   "name": "python3"
  },
  "language_info": {
   "codemirror_mode": {
    "name": "ipython",
    "version": 3
   },
   "file_extension": ".py",
   "mimetype": "text/x-python",
   "name": "python",
   "nbconvert_exporter": "python",
   "pygments_lexer": "ipython3",
   "version": "3.6.6"
  }
 },
 "nbformat": 4,
 "nbformat_minor": 2
}
